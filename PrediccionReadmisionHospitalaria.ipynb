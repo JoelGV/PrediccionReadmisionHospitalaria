{
  "nbformat": 4,
  "nbformat_minor": 0,
  "metadata": {
    "kernelspec": {
      "name": "python3",
      "display_name": "Python 3"
    },
    "colab": {
      "name": "PrediccionReadmisionHospitalaria.ipynb",
      "provenance": [],
      "collapsed_sections": [],
      "include_colab_link": true
    }
  },
  "cells": [
    {
      "cell_type": "markdown",
      "metadata": {
        "id": "view-in-github",
        "colab_type": "text"
      },
      "source": [
        "<a href=\"https://colab.research.google.com/github/JoelGV/PrediccionReadmisionHospitalaria/blob/main/PrediccionReadmisionHospitalaria.ipynb\" target=\"_parent\"><img src=\"https://colab.research.google.com/assets/colab-badge.svg\" alt=\"Open In Colab\"/></a>"
      ]
    },
    {
      "cell_type": "markdown",
      "metadata": {
        "deletable": true,
        "editable": true,
        "id": "-of4jt8sq4yz"
      },
      "source": [
        "# Predicción de readmisión hospitalaria en pacientes con diabetes \n",
        "Este es un ejercicio de clasificiación en el que el objetivo es determinar si un paciente tendrá (o no) readmisión hospitalaria con base en las características:\n",
        "\n",
        "- SystolicBPNBR: Presión sanguínea systólica 128 mm Hg, fuente: https://www.healthline.com/health/high-blood-pressure-hypertension/blood-pressure-reading-explained\n",
        "\n",
        "- LDLNBR: Relacionado con el colesterol (su concentración) low--density lipoprotein que favorece los ataques catrdiacos,\n",
        "fuente: https://www.webmd.com/heart-disease/ldl-cholesterol-the-bad-cholesterol#1\n",
        "\n",
        "- A1CNBR: Es una métrica del promedio del nivel de azucar en la sangre de 2 o 3 meses. Puede tener otros nombres como: glycated hemoglobin, glycosylated hemoglobin, hemoglobin A1C and HbA1c. también sirve para diagnosticar diabetes tipo 1 o 2.\n",
        "Fuente: https://www.mayoclinic.org/tests-procedures/a1c-test/about/pac-20384643\n",
        "\n",
        "- ThirtyDayReadmitFLG: Readmision hospitalaria en pacientes con diabetes(readmision no planificada en los 30 dias despues de salir del hospital, ser dado de alta). Incrementa los costos. Incluso puede considerarse como una medida de la calidad del servicio.\n",
        "Fuentes:\n",
        "https://www.researchgate.net/publication/272841299_Hospital_Readmission_of_Patients_with_Diabetes\n",
        "https://www.medicare.gov/hospitalcompare/Data/30-day-measures.html\n",
        "https://en.wikipedia.org/wiki/Hospital_readmission\n",
        "\n",
        "La base de datos fue tomada de **healthcare.ai**"
      ]
    },
    {
      "cell_type": "code",
      "metadata": {
        "deletable": true,
        "editable": true,
        "scrolled": true,
        "id": "jWs5tqH2q4zK"
      },
      "source": [
        "import pandas as pd                                   # Librería para manejo de datos y archivos.\n",
        "import numpy as np                                    # Librería para operaciones matemáticas.\n",
        "from sklearn.model_selection import train_test_split  # Librería para construir conjuntos de entrenamiento y prueba."
      ],
      "execution_count": null,
      "outputs": []
    },
    {
      "cell_type": "markdown",
      "metadata": {
        "id": "x1N_-V3JHalQ"
      },
      "source": [
        "NOTA: Recuerda subir a colaboratory el archivo 'DiabetesPreprocesado.csv'"
      ]
    },
    {
      "cell_type": "code",
      "metadata": {
        "id": "mzWjey-lWFvf"
      },
      "source": [
        "# Lectura del archivo de datos.\n",
        "dataset = pd.read_csv('DiabetesPreprocesado.csv')"
      ],
      "execution_count": null,
      "outputs": []
    },
    {
      "cell_type": "code",
      "metadata": {
        "id": "WXi1rQbCWVNr",
        "colab": {
          "base_uri": "https://localhost:8080/",
          "height": 208
        },
        "outputId": "a0020b13-52a8-44dd-e432-4d4f53d3928a"
      },
      "source": [
        "# El método head() imprime los primeros registros del dataframe.\n",
        "dataset.head()"
      ],
      "execution_count": null,
      "outputs": [
        {
          "output_type": "execute_result",
          "data": {
            "text/html": [
              "<div>\n",
              "<style scoped>\n",
              "    .dataframe tbody tr th:only-of-type {\n",
              "        vertical-align: middle;\n",
              "    }\n",
              "\n",
              "    .dataframe tbody tr th {\n",
              "        vertical-align: top;\n",
              "    }\n",
              "\n",
              "    .dataframe thead th {\n",
              "        text-align: right;\n",
              "    }\n",
              "</style>\n",
              "<table border=\"1\" class=\"dataframe\">\n",
              "  <thead>\n",
              "    <tr style=\"text-align: right;\">\n",
              "      <th></th>\n",
              "      <th>PatientEncounterID</th>\n",
              "      <th>SystolicBPNBR</th>\n",
              "      <th>LDLNBR</th>\n",
              "      <th>A1CNBR</th>\n",
              "      <th>GenderFLG</th>\n",
              "      <th>ThirtyDayReadmitFLG</th>\n",
              "    </tr>\n",
              "  </thead>\n",
              "  <tbody>\n",
              "    <tr>\n",
              "      <th>0</th>\n",
              "      <td>1</td>\n",
              "      <td>167</td>\n",
              "      <td>195</td>\n",
              "      <td>4.2</td>\n",
              "      <td>0</td>\n",
              "      <td>0</td>\n",
              "    </tr>\n",
              "    <tr>\n",
              "      <th>1</th>\n",
              "      <td>2</td>\n",
              "      <td>153</td>\n",
              "      <td>214</td>\n",
              "      <td>5.0</td>\n",
              "      <td>0</td>\n",
              "      <td>0</td>\n",
              "    </tr>\n",
              "    <tr>\n",
              "      <th>2</th>\n",
              "      <td>3</td>\n",
              "      <td>170</td>\n",
              "      <td>191</td>\n",
              "      <td>4.0</td>\n",
              "      <td>0</td>\n",
              "      <td>0</td>\n",
              "    </tr>\n",
              "    <tr>\n",
              "      <th>3</th>\n",
              "      <td>4</td>\n",
              "      <td>187</td>\n",
              "      <td>135</td>\n",
              "      <td>4.4</td>\n",
              "      <td>0</td>\n",
              "      <td>0</td>\n",
              "    </tr>\n",
              "    <tr>\n",
              "      <th>4</th>\n",
              "      <td>5</td>\n",
              "      <td>188</td>\n",
              "      <td>125</td>\n",
              "      <td>4.3</td>\n",
              "      <td>0</td>\n",
              "      <td>0</td>\n",
              "    </tr>\n",
              "  </tbody>\n",
              "</table>\n",
              "</div>"
            ],
            "text/plain": [
              "   PatientEncounterID  SystolicBPNBR  ...  GenderFLG  ThirtyDayReadmitFLG\n",
              "0                   1            167  ...          0                    0\n",
              "1                   2            153  ...          0                    0\n",
              "2                   3            170  ...          0                    0\n",
              "3                   4            187  ...          0                    0\n",
              "4                   5            188  ...          0                    0\n",
              "\n",
              "[5 rows x 6 columns]"
            ]
          },
          "metadata": {
            "tags": []
          },
          "execution_count": 5
        }
      ]
    },
    {
      "cell_type": "code",
      "metadata": {
        "id": "WHznpYmjWZ5A",
        "colab": {
          "base_uri": "https://localhost:8080/",
          "height": 427
        },
        "outputId": "4504649f-35a7-4dc7-e90d-1647c115b56f"
      },
      "source": [
        "# Regsitros de pacientes con readmisión hopitalaria.\n",
        "datasetCR = dataset[dataset['ThirtyDayReadmitFLG'] == 1]\n",
        "datasetCR"
      ],
      "execution_count": null,
      "outputs": [
        {
          "output_type": "execute_result",
          "data": {
            "text/html": [
              "<div>\n",
              "<style scoped>\n",
              "    .dataframe tbody tr th:only-of-type {\n",
              "        vertical-align: middle;\n",
              "    }\n",
              "\n",
              "    .dataframe tbody tr th {\n",
              "        vertical-align: top;\n",
              "    }\n",
              "\n",
              "    .dataframe thead th {\n",
              "        text-align: right;\n",
              "    }\n",
              "</style>\n",
              "<table border=\"1\" class=\"dataframe\">\n",
              "  <thead>\n",
              "    <tr style=\"text-align: right;\">\n",
              "      <th></th>\n",
              "      <th>PatientEncounterID</th>\n",
              "      <th>SystolicBPNBR</th>\n",
              "      <th>LDLNBR</th>\n",
              "      <th>A1CNBR</th>\n",
              "      <th>GenderFLG</th>\n",
              "      <th>ThirtyDayReadmitFLG</th>\n",
              "    </tr>\n",
              "  </thead>\n",
              "  <tbody>\n",
              "    <tr>\n",
              "      <th>9</th>\n",
              "      <td>10</td>\n",
              "      <td>160</td>\n",
              "      <td>130</td>\n",
              "      <td>8.0</td>\n",
              "      <td>0</td>\n",
              "      <td>1</td>\n",
              "    </tr>\n",
              "    <tr>\n",
              "      <th>12</th>\n",
              "      <td>13</td>\n",
              "      <td>153</td>\n",
              "      <td>218</td>\n",
              "      <td>8.0</td>\n",
              "      <td>0</td>\n",
              "      <td>1</td>\n",
              "    </tr>\n",
              "    <tr>\n",
              "      <th>13</th>\n",
              "      <td>14</td>\n",
              "      <td>155</td>\n",
              "      <td>218</td>\n",
              "      <td>8.0</td>\n",
              "      <td>0</td>\n",
              "      <td>1</td>\n",
              "    </tr>\n",
              "    <tr>\n",
              "      <th>14</th>\n",
              "      <td>15</td>\n",
              "      <td>159</td>\n",
              "      <td>218</td>\n",
              "      <td>8.0</td>\n",
              "      <td>0</td>\n",
              "      <td>1</td>\n",
              "    </tr>\n",
              "    <tr>\n",
              "      <th>18</th>\n",
              "      <td>19</td>\n",
              "      <td>187</td>\n",
              "      <td>218</td>\n",
              "      <td>8.0</td>\n",
              "      <td>0</td>\n",
              "      <td>1</td>\n",
              "    </tr>\n",
              "    <tr>\n",
              "      <th>...</th>\n",
              "      <td>...</td>\n",
              "      <td>...</td>\n",
              "      <td>...</td>\n",
              "      <td>...</td>\n",
              "      <td>...</td>\n",
              "      <td>...</td>\n",
              "    </tr>\n",
              "    <tr>\n",
              "      <th>959</th>\n",
              "      <td>960</td>\n",
              "      <td>161</td>\n",
              "      <td>106</td>\n",
              "      <td>8.0</td>\n",
              "      <td>0</td>\n",
              "      <td>1</td>\n",
              "    </tr>\n",
              "    <tr>\n",
              "      <th>960</th>\n",
              "      <td>961</td>\n",
              "      <td>153</td>\n",
              "      <td>87</td>\n",
              "      <td>8.0</td>\n",
              "      <td>0</td>\n",
              "      <td>1</td>\n",
              "    </tr>\n",
              "    <tr>\n",
              "      <th>961</th>\n",
              "      <td>962</td>\n",
              "      <td>162</td>\n",
              "      <td>109</td>\n",
              "      <td>8.0</td>\n",
              "      <td>0</td>\n",
              "      <td>1</td>\n",
              "    </tr>\n",
              "    <tr>\n",
              "      <th>962</th>\n",
              "      <td>963</td>\n",
              "      <td>160</td>\n",
              "      <td>105</td>\n",
              "      <td>8.0</td>\n",
              "      <td>0</td>\n",
              "      <td>1</td>\n",
              "    </tr>\n",
              "    <tr>\n",
              "      <th>963</th>\n",
              "      <td>964</td>\n",
              "      <td>154</td>\n",
              "      <td>90</td>\n",
              "      <td>8.0</td>\n",
              "      <td>0</td>\n",
              "      <td>1</td>\n",
              "    </tr>\n",
              "  </tbody>\n",
              "</table>\n",
              "<p>156 rows × 6 columns</p>\n",
              "</div>"
            ],
            "text/plain": [
              "     PatientEncounterID  SystolicBPNBR  ...  GenderFLG  ThirtyDayReadmitFLG\n",
              "9                    10            160  ...          0                    1\n",
              "12                   13            153  ...          0                    1\n",
              "13                   14            155  ...          0                    1\n",
              "14                   15            159  ...          0                    1\n",
              "18                   19            187  ...          0                    1\n",
              "..                  ...            ...  ...        ...                  ...\n",
              "959                 960            161  ...          0                    1\n",
              "960                 961            153  ...          0                    1\n",
              "961                 962            162  ...          0                    1\n",
              "962                 963            160  ...          0                    1\n",
              "963                 964            154  ...          0                    1\n",
              "\n",
              "[156 rows x 6 columns]"
            ]
          },
          "metadata": {
            "tags": []
          },
          "execution_count": 6
        }
      ]
    },
    {
      "cell_type": "markdown",
      "metadata": {
        "id": "u4boe8hTYizd"
      },
      "source": [
        "## Procesamiento de los datos"
      ]
    },
    {
      "cell_type": "code",
      "metadata": {
        "id": "D3dif3l5uKOH",
        "colab": {
          "base_uri": "https://localhost:8080/",
          "height": 208
        },
        "outputId": "5bac9f0d-2a82-4093-8bcb-192982dc2029"
      },
      "source": [
        "# De la tabla original se eliminará la primera columna.\n",
        "dataset = dataset.drop(['PatientEncounterID'], axis = 1)\n",
        "dataset.head()"
      ],
      "execution_count": null,
      "outputs": [
        {
          "output_type": "execute_result",
          "data": {
            "text/html": [
              "<div>\n",
              "<style scoped>\n",
              "    .dataframe tbody tr th:only-of-type {\n",
              "        vertical-align: middle;\n",
              "    }\n",
              "\n",
              "    .dataframe tbody tr th {\n",
              "        vertical-align: top;\n",
              "    }\n",
              "\n",
              "    .dataframe thead th {\n",
              "        text-align: right;\n",
              "    }\n",
              "</style>\n",
              "<table border=\"1\" class=\"dataframe\">\n",
              "  <thead>\n",
              "    <tr style=\"text-align: right;\">\n",
              "      <th></th>\n",
              "      <th>SystolicBPNBR</th>\n",
              "      <th>LDLNBR</th>\n",
              "      <th>A1CNBR</th>\n",
              "      <th>GenderFLG</th>\n",
              "      <th>ThirtyDayReadmitFLG</th>\n",
              "    </tr>\n",
              "  </thead>\n",
              "  <tbody>\n",
              "    <tr>\n",
              "      <th>0</th>\n",
              "      <td>167</td>\n",
              "      <td>195</td>\n",
              "      <td>4.2</td>\n",
              "      <td>0</td>\n",
              "      <td>0</td>\n",
              "    </tr>\n",
              "    <tr>\n",
              "      <th>1</th>\n",
              "      <td>153</td>\n",
              "      <td>214</td>\n",
              "      <td>5.0</td>\n",
              "      <td>0</td>\n",
              "      <td>0</td>\n",
              "    </tr>\n",
              "    <tr>\n",
              "      <th>2</th>\n",
              "      <td>170</td>\n",
              "      <td>191</td>\n",
              "      <td>4.0</td>\n",
              "      <td>0</td>\n",
              "      <td>0</td>\n",
              "    </tr>\n",
              "    <tr>\n",
              "      <th>3</th>\n",
              "      <td>187</td>\n",
              "      <td>135</td>\n",
              "      <td>4.4</td>\n",
              "      <td>0</td>\n",
              "      <td>0</td>\n",
              "    </tr>\n",
              "    <tr>\n",
              "      <th>4</th>\n",
              "      <td>188</td>\n",
              "      <td>125</td>\n",
              "      <td>4.3</td>\n",
              "      <td>0</td>\n",
              "      <td>0</td>\n",
              "    </tr>\n",
              "  </tbody>\n",
              "</table>\n",
              "</div>"
            ],
            "text/plain": [
              "   SystolicBPNBR  LDLNBR  A1CNBR  GenderFLG  ThirtyDayReadmitFLG\n",
              "0            167     195     4.2          0                    0\n",
              "1            153     214     5.0          0                    0\n",
              "2            170     191     4.0          0                    0\n",
              "3            187     135     4.4          0                    0\n",
              "4            188     125     4.3          0                    0"
            ]
          },
          "metadata": {
            "tags": []
          },
          "execution_count": 7
        }
      ]
    },
    {
      "cell_type": "code",
      "metadata": {
        "id": "KkxNq6MxdtoB",
        "colab": {
          "base_uri": "https://localhost:8080/",
          "height": 105
        },
        "outputId": "b23d20a1-9231-4c26-e3cd-e786cd0ab062"
      },
      "source": [
        "#Estandarización\n",
        "from sklearn.preprocessing import MinMaxScaler\n",
        "\n",
        "scaler = MinMaxScaler()\n",
        "\n",
        "scaler.fit(dataset)\n",
        "\n",
        "dataset = scaler.transform(dataset)\n",
        "\n",
        "dataset[0:5]"
      ],
      "execution_count": null,
      "outputs": [
        {
          "output_type": "execute_result",
          "data": {
            "text/plain": [
              "array([[0.67      , 0.83221477, 0.05      , 0.        , 0.        ],\n",
              "       [0.53      , 0.95973154, 0.25      , 0.        , 0.        ],\n",
              "       [0.7       , 0.80536913, 0.        , 0.        , 0.        ],\n",
              "       [0.87      , 0.4295302 , 0.1       , 0.        , 0.        ],\n",
              "       [0.88      , 0.36241611, 0.075     , 0.        , 0.        ]])"
            ]
          },
          "metadata": {
            "tags": []
          },
          "execution_count": 8
        }
      ]
    },
    {
      "cell_type": "code",
      "metadata": {
        "id": "AToZ7jyfcgsi"
      },
      "source": [
        "# Construcción de los conjuntos de entrenamiento y prueba.\n",
        "caracteristicas = dataset[:, :-1]\n",
        "target = dataset[:, -1]\n",
        "x_train, x_test, y_train, y_test = train_test_split(caracteristicas, target, \n",
        "                                                    test_size = 0.20,\n",
        "                                                    random_state = 10)"
      ],
      "execution_count": null,
      "outputs": []
    },
    {
      "cell_type": "code",
      "metadata": {
        "id": "POhotOwtd3jZ",
        "colab": {
          "base_uri": "https://localhost:8080/",
          "height": 88
        },
        "outputId": "a245dd74-f488-47b7-8a9c-2d98284bdb99"
      },
      "source": [
        "# verificación del tamaño de los conjuntos de train y test\n",
        "print(x_train.shape)\n",
        "print(y_train.shape)\n",
        "print(x_test.shape)\n",
        "print(y_test.shape)"
      ],
      "execution_count": null,
      "outputs": [
        {
          "output_type": "stream",
          "text": [
            "(800, 4)\n",
            "(800,)\n",
            "(200, 4)\n",
            "(200,)\n"
          ],
          "name": "stdout"
        }
      ]
    },
    {
      "cell_type": "markdown",
      "metadata": {
        "id": "SorNqnkk9Y3r"
      },
      "source": [
        "## Construcción de la máquina de vector soporte"
      ]
    },
    {
      "cell_type": "code",
      "metadata": {
        "id": "YJOV8ymhkuHu"
      },
      "source": [
        "from sklearn import svm"
      ],
      "execution_count": null,
      "outputs": []
    },
    {
      "cell_type": "code",
      "metadata": {
        "id": "RCRG0NSZk1Kx",
        "colab": {
          "base_uri": "https://localhost:8080/",
          "height": 88
        },
        "outputId": "a71d51b8-033b-49a2-df83-ad2b4ef59c11"
      },
      "source": [
        "modeloSVM = svm.SVC(C=100, kernel='poly', degree=3, probability=True)\n",
        "modeloSVM.fit(x_train, y_train)"
      ],
      "execution_count": null,
      "outputs": [
        {
          "output_type": "execute_result",
          "data": {
            "text/plain": [
              "SVC(C=100, break_ties=False, cache_size=200, class_weight=None, coef0=0.0,\n",
              "    decision_function_shape='ovr', degree=3, gamma='scale', kernel='poly',\n",
              "    max_iter=-1, probability=True, random_state=None, shrinking=True, tol=0.001,\n",
              "    verbose=False)"
            ]
          },
          "metadata": {
            "tags": []
          },
          "execution_count": 12
        }
      ]
    },
    {
      "cell_type": "code",
      "metadata": {
        "id": "x-sE305rXA_-",
        "colab": {
          "base_uri": "https://localhost:8080/",
          "height": 52
        },
        "outputId": "3f5ab396-d0ea-4ad8-b547-73a1f20bcc0a"
      },
      "source": [
        "acc_train = modeloSVM.score(x_train, y_train)\n",
        "acc_test = modeloSVM.score(x_test, y_test)\n",
        "print('acc_train = ', acc_train)\n",
        "print('acc_test = ', acc_test)"
      ],
      "execution_count": null,
      "outputs": [
        {
          "output_type": "stream",
          "text": [
            "acc_train =  0.88125\n",
            "acc_test =  0.885\n"
          ],
          "name": "stdout"
        }
      ]
    },
    {
      "cell_type": "code",
      "metadata": {
        "id": "IYlgwpjhLISK",
        "colab": {
          "base_uri": "https://localhost:8080/",
          "height": 228
        },
        "outputId": "0f7b76b8-d62b-477f-d18f-869f7852416b"
      },
      "source": [
        "y_test"
      ],
      "execution_count": null,
      "outputs": [
        {
          "output_type": "execute_result",
          "data": {
            "text/plain": [
              "array([0., 1., 0., 0., 0., 1., 0., 1., 0., 0., 0., 0., 0., 0., 0., 0., 0.,\n",
              "       1., 0., 0., 0., 0., 0., 1., 0., 0., 1., 1., 0., 0., 0., 1., 1., 0.,\n",
              "       0., 0., 0., 0., 0., 0., 0., 0., 0., 0., 0., 0., 0., 0., 0., 1., 0.,\n",
              "       1., 0., 0., 0., 0., 0., 0., 0., 0., 0., 0., 0., 0., 0., 0., 0., 0.,\n",
              "       0., 0., 0., 0., 0., 0., 0., 0., 0., 0., 0., 0., 0., 0., 1., 0., 0.,\n",
              "       0., 0., 0., 0., 0., 0., 0., 0., 0., 0., 0., 0., 0., 0., 0., 0., 0.,\n",
              "       0., 0., 0., 0., 0., 0., 0., 1., 0., 0., 0., 0., 0., 0., 1., 0., 0.,\n",
              "       0., 0., 1., 0., 0., 0., 1., 0., 0., 0., 0., 0., 0., 0., 0., 0., 0.,\n",
              "       0., 1., 0., 0., 0., 1., 0., 0., 0., 0., 0., 0., 0., 0., 0., 0., 1.,\n",
              "       0., 0., 0., 0., 1., 0., 0., 0., 0., 0., 0., 0., 0., 0., 1., 0., 0.,\n",
              "       0., 1., 0., 0., 0., 0., 0., 0., 1., 0., 0., 0., 1., 0., 0., 1., 0.,\n",
              "       0., 0., 0., 1., 0., 0., 1., 0., 0., 0., 0., 0., 1.])"
            ]
          },
          "metadata": {
            "tags": []
          },
          "execution_count": 14
        }
      ]
    },
    {
      "cell_type": "code",
      "metadata": {
        "id": "0zJzxlrBLVfy",
        "colab": {
          "base_uri": "https://localhost:8080/",
          "height": 228
        },
        "outputId": "ba206dab-8a85-4990-9211-e7d0a54c321d"
      },
      "source": [
        "modeloSVM.predict(x_test)"
      ],
      "execution_count": null,
      "outputs": [
        {
          "output_type": "execute_result",
          "data": {
            "text/plain": [
              "array([0., 1., 0., 0., 0., 1., 0., 0., 0., 0., 0., 0., 0., 0., 0., 0., 0.,\n",
              "       0., 0., 0., 0., 0., 0., 0., 0., 0., 0., 0., 0., 0., 0., 1., 1., 0.,\n",
              "       0., 0., 0., 0., 0., 0., 0., 0., 0., 0., 0., 0., 0., 0., 0., 1., 0.,\n",
              "       0., 0., 0., 0., 0., 0., 0., 0., 0., 0., 0., 0., 0., 0., 0., 0., 0.,\n",
              "       0., 0., 0., 0., 0., 0., 0., 0., 0., 0., 0., 0., 0., 0., 0., 0., 0.,\n",
              "       0., 0., 0., 0., 0., 0., 0., 0., 0., 0., 0., 0., 0., 0., 0., 0., 0.,\n",
              "       0., 0., 0., 0., 0., 0., 0., 0., 0., 0., 1., 0., 0., 0., 0., 0., 0.,\n",
              "       0., 0., 0., 0., 0., 0., 0., 0., 0., 0., 0., 0., 0., 0., 0., 1., 0.,\n",
              "       0., 1., 0., 0., 0., 0., 0., 0., 0., 0., 0., 0., 1., 0., 0., 0., 0.,\n",
              "       0., 0., 0., 0., 0., 0., 0., 0., 0., 0., 0., 0., 0., 0., 0., 0., 0.,\n",
              "       0., 0., 0., 0., 0., 0., 0., 0., 0., 0., 0., 0., 0., 0., 0., 0., 0.,\n",
              "       0., 0., 0., 1., 0., 0., 1., 0., 0., 0., 0., 0., 0.])"
            ]
          },
          "metadata": {
            "tags": []
          },
          "execution_count": 15
        }
      ]
    },
    {
      "cell_type": "code",
      "metadata": {
        "id": "9lrZ4Go6U0Cc",
        "colab": {
          "base_uri": "https://localhost:8080/",
          "height": 35
        },
        "outputId": "4706fa04-da79-4781-e1d8-e7005f3e3b65"
      },
      "source": [
        "x_test[1]"
      ],
      "execution_count": null,
      "outputs": [
        {
          "output_type": "execute_result",
          "data": {
            "text/plain": [
              "array([0.76     , 0.4966443, 1.       , 0.       ])"
            ]
          },
          "metadata": {
            "tags": []
          },
          "execution_count": 16
        }
      ]
    },
    {
      "cell_type": "markdown",
      "metadata": {
        "id": "--yYk7iJi2TS"
      },
      "source": [
        "## Prueba del modelo"
      ]
    },
    {
      "cell_type": "code",
      "metadata": {
        "id": "mt7NhzKjXSLW"
      },
      "source": [
        "# Definición de los datos de un paciente ficticio para realizar una prueba de clasificación con la \n",
        "# máquina de vector soporte.\n",
        "paciente = np.array([[0.7, 0.5, 1.0, 0]])"
      ],
      "execution_count": null,
      "outputs": []
    },
    {
      "cell_type": "code",
      "metadata": {
        "id": "ZfThhqRwYRLO",
        "colab": {
          "base_uri": "https://localhost:8080/",
          "height": 35
        },
        "outputId": "3c90086d-1c42-4c01-98ef-ac45bbd5a8df"
      },
      "source": [
        "# Si la respuesta del modelo es 0 esto nos indica que el paciente pertenece al grupo de personas que \n",
        "# NO tendrá readmisión hospitalaria (o que es muy probale que no lo tenga). Si el resultado es 1, esto \n",
        "# quiere decir que es muy probable que el paciente sufra una readmisión hospitalaria.\n",
        "diagnostico = modeloSVM.predict_proba(paciente)\n",
        "print(diagnostico)"
      ],
      "execution_count": null,
      "outputs": [
        {
          "output_type": "stream",
          "text": [
            "[[0.34132977 0.65867023]]\n"
          ],
          "name": "stdout"
        }
      ]
    },
    {
      "cell_type": "markdown",
      "metadata": {
        "id": "q0AGW-IiMooG"
      },
      "source": [
        "## Árbol de decisión"
      ]
    },
    {
      "cell_type": "code",
      "metadata": {
        "id": "RQJUgPijWH8r"
      },
      "source": [
        "from sklearn import tree"
      ],
      "execution_count": null,
      "outputs": []
    },
    {
      "cell_type": "code",
      "metadata": {
        "id": "ESbf05I3Mvif",
        "colab": {
          "base_uri": "https://localhost:8080/",
          "height": 123
        },
        "outputId": "27a2a7b5-3493-4da7-fd76-8a391f1690c1"
      },
      "source": [
        "modeloTree = tree.DecisionTreeClassifier(criterion = 'entropy', min_samples_split = 5)\n",
        "modeloTree.fit(x_train, y_train)"
      ],
      "execution_count": null,
      "outputs": [
        {
          "output_type": "execute_result",
          "data": {
            "text/plain": [
              "DecisionTreeClassifier(ccp_alpha=0.0, class_weight=None, criterion='entropy',\n",
              "                       max_depth=None, max_features=None, max_leaf_nodes=None,\n",
              "                       min_impurity_decrease=0.0, min_impurity_split=None,\n",
              "                       min_samples_leaf=1, min_samples_split=5,\n",
              "                       min_weight_fraction_leaf=0.0, presort='deprecated',\n",
              "                       random_state=None, splitter='best')"
            ]
          },
          "metadata": {
            "tags": []
          },
          "execution_count": 37
        }
      ]
    },
    {
      "cell_type": "code",
      "metadata": {
        "id": "uZVVuHc1NCWd",
        "colab": {
          "base_uri": "https://localhost:8080/",
          "height": 52
        },
        "outputId": "ba1c22f8-40c9-409d-e501-7e8c6492c03b"
      },
      "source": [
        "# Evaluación\n",
        "acc_train_tree = modeloTree.score(x_train, y_train)\n",
        "acc_test_tree = modeloTree.score(x_test, y_test)\n",
        "print('acc_train = ', acc_train_tree)\n",
        "print('acc_test = ', acc_test_tree)"
      ],
      "execution_count": null,
      "outputs": [
        {
          "output_type": "stream",
          "text": [
            "acc_train =  0.975\n",
            "acc_test =  0.865\n"
          ],
          "name": "stdout"
        }
      ]
    },
    {
      "cell_type": "code",
      "metadata": {
        "id": "Q-OUisPLNJTN",
        "colab": {
          "base_uri": "https://localhost:8080/",
          "height": 35
        },
        "outputId": "d5638366-c0cb-43da-b202-4a45bdb562cb"
      },
      "source": [
        "# Prueba\n",
        "# Si la respuesta del modelo es 0 esto nos indica que el paciente pertenece al grupo de personas que \n",
        "# NO tendrá readmisión hospitalaria (o que es muy probale que no lo tenga). Si el resultado es 1, esto \n",
        "# quiere decir que es muy probable que el paciente sufra una readmisión hospitalaria.\n",
        "diagnostico = modeloTree.predict_proba(paciente)\n",
        "print(diagnostico)"
      ],
      "execution_count": null,
      "outputs": [
        {
          "output_type": "stream",
          "text": [
            "[[0.57142857 0.42857143]]\n"
          ],
          "name": "stdout"
        }
      ]
    },
    {
      "cell_type": "markdown",
      "metadata": {
        "id": "yuECniP0N4dd"
      },
      "source": [
        "## Método de ensamble"
      ]
    },
    {
      "cell_type": "code",
      "metadata": {
        "id": "Uk8FsiS7NqF3"
      },
      "source": [
        "from sklearn import ensemble"
      ],
      "execution_count": null,
      "outputs": []
    },
    {
      "cell_type": "code",
      "metadata": {
        "id": "0K0HwKNJN-F1",
        "colab": {
          "base_uri": "https://localhost:8080/",
          "height": 52
        },
        "outputId": "d252bc42-8f2c-4d09-b267-19d981241eba"
      },
      "source": [
        "modeloAdaboost = ensemble.AdaBoostClassifier(n_estimators=100)\n",
        "modeloAdaboost.fit(x_train, y_train)"
      ],
      "execution_count": null,
      "outputs": [
        {
          "output_type": "execute_result",
          "data": {
            "text/plain": [
              "AdaBoostClassifier(algorithm='SAMME.R', base_estimator=None, learning_rate=1.0,\n",
              "                   n_estimators=100, random_state=None)"
            ]
          },
          "metadata": {
            "tags": []
          },
          "execution_count": 43
        }
      ]
    },
    {
      "cell_type": "code",
      "metadata": {
        "id": "3AZlWuQkQE6z",
        "colab": {
          "base_uri": "https://localhost:8080/",
          "height": 52
        },
        "outputId": "ec048111-4378-48cd-d01a-ad6b922f0ddb"
      },
      "source": [
        "modeloAdaboostMSV = ensemble.AdaBoostClassifier(base_estimator=modeloSVM, n_estimators=100)\n",
        "modeloAdaboostMSV.fit(x_train, y_train)\n",
        "# Evaluación\n",
        "acc_train_ABMSV = modeloAdaboostMSV.score(x_train, y_train)\n",
        "acc_test_ABMSV = modeloAdaboostMSV.score(x_test, y_test)\n",
        "print('acc_train = ', acc_train_ABMSV)\n",
        "print('acc_test = ', acc_test_ABMSV)"
      ],
      "execution_count": null,
      "outputs": [
        {
          "output_type": "stream",
          "text": [
            "acc_train =  0.84\n",
            "acc_test =  0.86\n"
          ],
          "name": "stdout"
        }
      ]
    },
    {
      "cell_type": "code",
      "metadata": {
        "id": "IrPDISrcOOy8",
        "colab": {
          "base_uri": "https://localhost:8080/",
          "height": 52
        },
        "outputId": "465a94cb-18fb-443a-967a-23f487bd310e"
      },
      "source": [
        "# Evaluación\n",
        "acc_train_AB = modeloAdaboost.score(x_train, y_train)\n",
        "acc_test_AB = modeloAdaboost.score(x_test, y_test)\n",
        "print('acc_train = ', acc_train_AB)\n",
        "print('acc_test = ', acc_test_AB)"
      ],
      "execution_count": null,
      "outputs": [
        {
          "output_type": "stream",
          "text": [
            "acc_train =  0.87375\n",
            "acc_test =  0.845\n"
          ],
          "name": "stdout"
        }
      ]
    },
    {
      "cell_type": "code",
      "metadata": {
        "id": "UWzgkNtcORDs",
        "colab": {
          "base_uri": "https://localhost:8080/",
          "height": 158
        },
        "outputId": "d3553c3b-f000-48b2-b52e-fadfd4f322a8"
      },
      "source": [
        "modeloRF = ensemble.RandomForestClassifier(n_estimators=100)\n",
        "modeloRF.fit(x_train, y_train)"
      ],
      "execution_count": null,
      "outputs": [
        {
          "output_type": "execute_result",
          "data": {
            "text/plain": [
              "RandomForestClassifier(bootstrap=True, ccp_alpha=0.0, class_weight=None,\n",
              "                       criterion='gini', max_depth=None, max_features='auto',\n",
              "                       max_leaf_nodes=None, max_samples=None,\n",
              "                       min_impurity_decrease=0.0, min_impurity_split=None,\n",
              "                       min_samples_leaf=1, min_samples_split=2,\n",
              "                       min_weight_fraction_leaf=0.0, n_estimators=100,\n",
              "                       n_jobs=None, oob_score=False, random_state=None,\n",
              "                       verbose=0, warm_start=False)"
            ]
          },
          "metadata": {
            "tags": []
          },
          "execution_count": 45
        }
      ]
    },
    {
      "cell_type": "code",
      "metadata": {
        "id": "SCcq0qlGOhvf",
        "colab": {
          "base_uri": "https://localhost:8080/",
          "height": 52
        },
        "outputId": "71872bb2-66c7-49c8-abb7-a2d6b099cd47"
      },
      "source": [
        "# Evaluación\n",
        "acc_train_RF = modeloRF.score(x_train, y_train)\n",
        "acc_test_RF = modeloRF.score(x_test, y_test)\n",
        "print('acc_train = ', acc_train_RF)\n",
        "print('acc_test = ', acc_test_RF)"
      ],
      "execution_count": null,
      "outputs": [
        {
          "output_type": "stream",
          "text": [
            "acc_train =  0.99875\n",
            "acc_test =  0.915\n"
          ],
          "name": "stdout"
        }
      ]
    },
    {
      "cell_type": "code",
      "metadata": {
        "id": "Maxn0x6UOsNG"
      },
      "source": [
        ""
      ],
      "execution_count": null,
      "outputs": []
    }
  ]
}